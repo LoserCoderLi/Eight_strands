{
 "cells": [
  {
   "cell_type": "markdown",
   "metadata": {},
   "source": [
    "# 八股文"
   ]
  },
  {
   "cell_type": "markdown",
   "metadata": {},
   "source": [
    "## 1. 熟悉哪些Linux指令?"
   ]
  },
  {
   "cell_type": "markdown",
   "metadata": {},
   "source": [
    "1. 文件操作指令\n",
    "\n",
    "* nano: 创建并编辑文档指令\n",
    "* ls: 显示当前目录下的内容\n",
    "* pwd: 显示当前工作目录\n",
    "* cd: 到达某个路径下面\n",
    "* cp: 复制某个文件到蘑菇文件夹下面\n",
    "* rm: 删除某个文件\n",
    "* touch: 创建文件\n",
    "\n",
    "2. 查看文件内容指令\n",
    "\n",
    "* cat: 显示一个或多个文件的内容\n",
    "* head: 查看文件的前几行\n",
    "* tail: 查看文件的后几行, 常用来看日志文件\n",
    "\n",
    "3. 文本编辑指令\n",
    "\n",
    "* vim或者vi: 编辑文本的交互式文本编辑器\n",
    "\n",
    "4. 权限管理\n",
    "\n",
    "* chmod: 更改文件的权限\n",
    "* chown: 更改文件或者目录的所有者和或所属组\n",
    "\n",
    "5. 磁盘管理\n",
    "\n",
    "* df: 查看空间使用情况\n",
    "\n",
    "6. 网络管理\n",
    "\n",
    "* ping: 发送 ICMP 回显请求测试网络连通性\n",
    "* ip -a或者ipconfig: 查看本地ip指令\n",
    "* netstat：查看网络状态和统计信息。(补充)\n",
    "* ssh：安全远程登录。(补充)\n",
    "\n",
    "7. 进程管理\n",
    "\n",
    "* ps: 查看当前进程\n",
    "* kill: 一个用于发送信号到进程的命令，主要用于管理系统上的进程，比如停止、暂停、恢复等。尽管名称叫 “kill”，它并不总是用来结束进程，而是通过信号与进程交互来控制其行为。\n",
    "\n",
    "8. 软件包管理\n",
    "\n",
    "* apt-get: Debian/Ubuntu/Mint 系统的包管理器"
   ]
  },
  {
   "cell_type": "markdown",
   "metadata": {},
   "source": [
    "## 2. Linux中如何查看一个进程，如何杀死一个进程，如何查看某个端口有没有被占用"
   ]
  },
  {
   "cell_type": "markdown",
   "metadata": {},
   "source": [
    "1. 查看进程： 用 ps 命令查看当前运行的进程，比如 ps aux 可以列出所有进程及其详细信息。\n",
    "2. 杀死进程： 首先用 ps 或 top 命令找到进程的PID（进程ID）。 然后用 kill 命令加上进程ID来结束进程，例如 kill -9 PID。\"-9\" 是强制杀死进程的信号。\n",
    "3. 查看端口占用： 使用 `lsof -i:端口号` 可以查看占用特定端口的进程。 或者用 `netstat -tulnp | grep 端口号`，这会显示监听在该端口的服务及其进程ID。"
   ]
  },
  {
   "cell_type": "markdown",
   "metadata": {},
   "source": [
    "## 3. 说一下 select、poll、epoll"
   ]
  },
  {
   "cell_type": "markdown",
   "metadata": {},
   "source": [
    "I/O`多路复用`通常通过select、poll、epoll等系统调用来实现。\n",
    "\n",
    "I/O多路复用是操作系统的一种机制，用来高效管理多个输入输出（I/O）请求，让程序可以同时处理多个网络连接或文件读取请求。简单来说，就是为了避免程序一直接收数据的等待时间，可以同时“关注”多个资源是否有数据，任何一个资源准备好后，立刻处理。\n",
    "\n",
    "![image.png](./images/image_select.png)\n",
    "![image-2.png](./images/image_poll.png)\n",
    "![image-3.png](./images/image_epoll.png)\n",
    "\n",
    "**个人理解**\n",
    "\n",
    "![image.png](./images/image_epoll2.png)\n",
    "\n",
    "**总结：**`select`是最早的 I/O 多路复用技术，但**受到文件描述符数量和效率方面的限制**。`poll`**克服了文件描述符数量的限制**，但仍然存在一定的**效率问题**。`epoll`是一种高效的I/O多路复用技术，尤其适用于**高并发场景**，但它**仅在 Linux 平台**上可用。一般来说，`epoll` 的效率是要比 `select` 和 `poll` 高的，但是对于**活动连接较多**的时候，由于**回调函数触发的很频繁**，其效率不一定比 `select` 和 `poll` 高。所以 `epoll` 在**连接数量很多**，但**活动连接较小**的情况性能体现的比较**明显**。"
   ]
  }
 ],
 "metadata": {
  "language_info": {
   "name": "python"
  }
 },
 "nbformat": 4,
 "nbformat_minor": 2
}
